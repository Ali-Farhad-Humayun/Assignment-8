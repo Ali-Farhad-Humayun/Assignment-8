{
  "nbformat": 4,
  "nbformat_minor": 0,
  "metadata": {
    "colab": {
      "provenance": [],
      "authorship_tag": "ABX9TyMVlvBmodFk2Qb5r+8JIzXX",
      "include_colab_link": true
    },
    "kernelspec": {
      "name": "python3",
      "display_name": "Python 3"
    },
    "language_info": {
      "name": "python"
    }
  },
  "cells": [
    {
      "cell_type": "markdown",
      "metadata": {
        "id": "view-in-github",
        "colab_type": "text"
      },
      "source": [
        "<a href=\"https://colab.research.google.com/github/Ali-Farhad-Humayun/Assignment-8/blob/main/Assignment_8.ipynb\" target=\"_parent\"><img src=\"https://colab.research.google.com/assets/colab-badge.svg\" alt=\"Open In Colab\"/></a>"
      ]
    },
    {
      "cell_type": "code",
      "execution_count": null,
      "metadata": {
        "id": "lMH0D4Xsn1ih"
      },
      "outputs": [],
      "source": []
    },
    {
      "cell_type": "markdown",
      "source": [
        "#Q1. Describe the main differences between the CSS Flexbox layout model and the CSS Grid layout model. When would you choose to use one over the other?\n",
        "\n",
        "    Answer:\n",
        "-  Differences between Flexbox and Grid:\n",
        "\n",
        "-  Flexbox vs Grid Comparison\n",
        "\n",
        "1. Dimension\n",
        "\n",
        "Flexbox: One-dimensional (works with either rows OR columns)\n",
        "\n",
        "Grid: Two-dimensional (works with both rows AND columns simultaneously)\n",
        "\n",
        "2. Alignment\n",
        "\n",
        "Flexbox: Excels at aligning individual items within a container\n",
        "\n",
        "Grid: Optimized for creating complete layout structures\n",
        "\n",
        "3. Use Case\n",
        "\n",
        "Flexbox: Ideal for smaller-scale component layouts\n",
        "\n",
        "Grid: Best for comprehensive page layouts\n",
        "\n",
        "4. Content Flow\n",
        "\n",
        "Flexbox: Operates along a single axis (horizontal or vertical)\n",
        "\n",
        "Grid: Can define and control both axes (rows and columns) independently\n",
        "\n",
        "- When to use:\n",
        "\n",
        "Flexbox: When you need to align items in a single direction (navigation bars, form controls, small components)\n",
        "\n",
        "Grid: When you need complex two-dimensional layouts (entire page layouts, card grids)"
      ],
      "metadata": {
        "id": "iUiJnxQBodWM"
      }
    },
    {
      "cell_type": "markdown",
      "source": [
        "#Q2. Explain the role of the following key properties in the Flexbox layout model:\n",
        "\n",
        "1. justify-content\n",
        "\n",
        "2. align-items\n",
        "\n",
        "3. gap\n",
        "\n",
        "4. flex-direction\n",
        "\n",
        "5. flex-wrap\n",
        "\n",
        "    Answers:\n",
        "  \n",
        "- Flexbox Properties:\n",
        "\n",
        "justify-content: Controls alignment along main axis (horizontal by default)\n",
        "\n",
        "justify-content: center; /* flex-start | flex-end | space-between | space-around */\n",
        "\n",
        "align-items: Controls alignment along cross axis (vertical by default)\n",
        "\n",
        "align-items: center; /* flex-start | flex-end | stretch | baseline */\n",
        "\n",
        "gap: Sets spacing between items\n",
        "\n",
        "gap: 20px; /* Single value for both row/col gaps */\n",
        "\n",
        "flex-direction: Defines main axis direction\n",
        "\n",
        "flex-direction: row; /* column | row-reverse | column-reverse */\n",
        "\n",
        "flex-wrap: Controls item wrapping\n",
        "\n",
        "flex-wrap: wrap; /* nowrap | wrap-reverse */"
      ],
      "metadata": {
        "id": "vVzP6HNYrezc"
      }
    }
  ]
}